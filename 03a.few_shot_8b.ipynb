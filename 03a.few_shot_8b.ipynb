{
 "cells": [
  {
   "cell_type": "code",
   "execution_count": 1,
   "metadata": {},
   "outputs": [],
   "source": [
    "import pandas as pd\n",
    "import ollama\n",
    "import random"
   ]
  },
  {
   "cell_type": "code",
   "execution_count": 2,
   "metadata": {},
   "outputs": [],
   "source": [
    "df = pd.read_csv('arabot_1k_translated.csv')"
   ]
  },
  {
   "cell_type": "code",
   "execution_count": 3,
   "metadata": {},
   "outputs": [],
   "source": [
    "categories = df['Type'].unique().tolist()\n"
   ]
  },
  {
   "cell_type": "code",
   "execution_count": 4,
   "metadata": {},
   "outputs": [],
   "source": [
    "# create a dictionary to store examples for each category\n",
    "examples = {}\n",
    "for category in categories:\n",
    "    category_data = df[df['Type'] == category]\n",
    "    examples[category] = category_data.sample(n=2)['Description_English'].tolist()"
   ]
  },
  {
   "cell_type": "code",
   "execution_count": null,
   "metadata": {},
   "outputs": [],
   "source": [
    "examples"
   ]
  },
  {
   "cell_type": "code",
   "execution_count": 9,
   "metadata": {},
   "outputs": [],
   "source": [
    "# separate the examples and the remaining data\n",
    "example_indices = []\n",
    "for category_examples in examples.values():\n",
    "    for example in category_examples:\n",
    "        indices = df[df['Description_English'] == example].index\n",
    "        example_indices.extend(indices)\n",
    "\n",
    "df_examples = df.loc[example_indices]\n",
    "df_to_predict = df.drop(example_indices)"
   ]
  },
  {
   "cell_type": "code",
   "execution_count": 10,
   "metadata": {},
   "outputs": [],
   "source": [
    "# create few shot prompt\n",
    "def create_few_shot_prompt(text, examples):\n",
    "    prompt = \"Here are some examples of text and their categories:\\n\\n\"\n",
    "    for category, category_examples in examples.items():\n",
    "        for example in category_examples:\n",
    "            prompt += f\"Text: {example}\\nCategory: {category}\\n\\n\"\n",
    "    prompt = prompt + f\"Now, classify the following text into one of the categories. Output only the category name, nothing else:\\n\\nText: {text}\\nCategory:\"\n",
    "    return prompt"
   ]
  },
  {
   "cell_type": "code",
   "execution_count": 11,
   "metadata": {},
   "outputs": [],
   "source": [
    "# function to perform few-shot classification\n",
    "def few_shot_classification(text, examples):\n",
    "    prompt = create_few_shot_prompt(text, examples)\n",
    "    response = ollama.chat(model='llama3', messages=[{'role': 'user', 'content': prompt}])\n",
    "    return response['message']['content'].strip()"
   ]
  },
  {
   "cell_type": "code",
   "execution_count": 12,
   "metadata": {},
   "outputs": [],
   "source": [
    "# perform classification on the remaining data\n",
    "df_to_predict['Predicted_Type'] = df_to_predict['Description_English'].apply(lambda x: few_shot_classification(x, examples))"
   ]
  },
  {
   "cell_type": "code",
   "execution_count": null,
   "metadata": {},
   "outputs": [],
   "source": [
    "df_to_predict.head()"
   ]
  },
  {
   "cell_type": "code",
   "execution_count": 14,
   "metadata": {},
   "outputs": [
    {
     "name": "stdout",
     "output_type": "stream",
     "text": [
      "Few-Shot Classification Accuracy: 55.24%\n"
     ]
    }
   ],
   "source": [
    "accuracy = (df_to_predict['Type'] == df_to_predict['Predicted_Type']).mean()\n",
    "print(f\"Few-Shot Classification Accuracy: {accuracy * 100:.2f}%\")"
   ]
  },
  {
   "cell_type": "code",
   "execution_count": null,
   "metadata": {},
   "outputs": [],
   "source": []
  }
 ],
 "metadata": {
  "kernelspec": {
   "display_name": ".venv",
   "language": "python",
   "name": "python3"
  },
  "language_info": {
   "codemirror_mode": {
    "name": "ipython",
    "version": 3
   },
   "file_extension": ".py",
   "mimetype": "text/x-python",
   "name": "python",
   "nbconvert_exporter": "python",
   "pygments_lexer": "ipython3",
   "version": "3.12.4"
  }
 },
 "nbformat": 4,
 "nbformat_minor": 2
}
