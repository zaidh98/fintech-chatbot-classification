{
 "cells": [
  {
   "cell_type": "code",
   "execution_count": 1,
   "metadata": {},
   "outputs": [],
   "source": [
    "# !pip install ollama"
   ]
  },
  {
   "cell_type": "code",
   "execution_count": 1,
   "metadata": {},
   "outputs": [],
   "source": [
    "import ollama\n",
    "import pandas as pd\n"
   ]
  },
  {
   "cell_type": "code",
   "execution_count": 2,
   "metadata": {},
   "outputs": [
    {
     "data": {
      "text/html": [
       "<div>\n",
       "<style scoped>\n",
       "    .dataframe tbody tr th:only-of-type {\n",
       "        vertical-align: middle;\n",
       "    }\n",
       "\n",
       "    .dataframe tbody tr th {\n",
       "        vertical-align: top;\n",
       "    }\n",
       "\n",
       "    .dataframe thead th {\n",
       "        text-align: right;\n",
       "    }\n",
       "</style>\n",
       "<table border=\"1\" class=\"dataframe\">\n",
       "  <thead>\n",
       "    <tr style=\"text-align: right;\">\n",
       "      <th></th>\n",
       "      <th>Description_English</th>\n",
       "      <th>Type</th>\n",
       "    </tr>\n",
       "  </thead>\n",
       "  <tbody>\n",
       "    <tr>\n",
       "      <th>0</th>\n",
       "      <td>3100 riyals were transferred to a quorum accou...</td>\n",
       "      <td>Payment Operations</td>\n",
       "    </tr>\n",
       "    <tr>\n",
       "      <th>1</th>\n",
       "      <td>A bank transfer was transferred to a friend on...</td>\n",
       "      <td>Payment Operations</td>\n",
       "    </tr>\n",
       "    <tr>\n",
       "      <th>2</th>\n",
       "      <td>A broken incoming transfer. The amount of 568 ...</td>\n",
       "      <td>Payment Operations</td>\n",
       "    </tr>\n",
       "    <tr>\n",
       "      <th>3</th>\n",
       "      <td>A company's amount was withdrawn twice on a da...</td>\n",
       "      <td>Bank Cards</td>\n",
       "    </tr>\n",
       "    <tr>\n",
       "      <th>4</th>\n",
       "      <td>A complaint has already been revealed and I ha...</td>\n",
       "      <td>Financing &amp; Leasing</td>\n",
       "    </tr>\n",
       "  </tbody>\n",
       "</table>\n",
       "</div>"
      ],
      "text/plain": [
       "                                 Description_English                 Type\n",
       "0  3100 riyals were transferred to a quorum accou...   Payment Operations\n",
       "1  A bank transfer was transferred to a friend on...   Payment Operations\n",
       "2  A broken incoming transfer. The amount of 568 ...   Payment Operations\n",
       "3  A company's amount was withdrawn twice on a da...           Bank Cards\n",
       "4  A complaint has already been revealed and I ha...  Financing & Leasing"
      ]
     },
     "execution_count": 2,
     "metadata": {},
     "output_type": "execute_result"
    }
   ],
   "source": [
    "df = pd.read_csv('arabot_1k_translated_random.csv')\n",
    "df.head()"
   ]
  },
  {
   "cell_type": "code",
   "execution_count": 3,
   "metadata": {},
   "outputs": [],
   "source": [
    "types = df['Type'].unique().tolist()"
   ]
  },
  {
   "cell_type": "code",
   "execution_count": 4,
   "metadata": {},
   "outputs": [],
   "source": [
    "def zero_shot_classification(description, types):\n",
    "    prompt = f\"\"\"Given the following text: \"{description}\"\n",
    "    \n",
    "    Classify it into one of the following categories:\n",
    "    {', '.join(types)}\n",
    "    \n",
    "    Output only the category name, nothing else.\"\"\"\n",
    "    \n",
    "    response = ollama.chat(model='llama3:70b', messages=[{'role': 'user', 'content': prompt}])\n",
    "    return response['message']['content'].strip()"
   ]
  },
  {
   "cell_type": "code",
   "execution_count": 7,
   "metadata": {},
   "outputs": [
    {
     "data": {
      "text/plain": [
       "'Payment Operations'"
      ]
     },
     "execution_count": 7,
     "metadata": {},
     "output_type": "execute_result"
    }
   ],
   "source": [
    "zero_shot_classification(df['Description_English'][0], types)"
   ]
  },
  {
   "cell_type": "markdown",
   "metadata": {},
   "source": [
    "6 minutes is a long inference time for one row. Based on this, if we were to do it on 1,000 rows, it would take us 4+ days to run everthing. Hence I will calculate the zero-shot accuracy based on 30 rows of data, which should take around 3-4 hours to run. "
   ]
  },
  {
   "cell_type": "code",
   "execution_count": 11,
   "metadata": {},
   "outputs": [],
   "source": [
    "df['Predicted_Type'] = df['Description_English'][0:30].apply(lambda x: zero_shot_classification(x, types))"
   ]
  },
  {
   "cell_type": "code",
   "execution_count": 12,
   "metadata": {},
   "outputs": [
    {
     "data": {
      "text/html": [
       "<div>\n",
       "<style scoped>\n",
       "    .dataframe tbody tr th:only-of-type {\n",
       "        vertical-align: middle;\n",
       "    }\n",
       "\n",
       "    .dataframe tbody tr th {\n",
       "        vertical-align: top;\n",
       "    }\n",
       "\n",
       "    .dataframe thead th {\n",
       "        text-align: right;\n",
       "    }\n",
       "</style>\n",
       "<table border=\"1\" class=\"dataframe\">\n",
       "  <thead>\n",
       "    <tr style=\"text-align: right;\">\n",
       "      <th></th>\n",
       "      <th>Description_English</th>\n",
       "      <th>Type</th>\n",
       "      <th>Predicted_Type</th>\n",
       "    </tr>\n",
       "  </thead>\n",
       "  <tbody>\n",
       "    <tr>\n",
       "      <th>0</th>\n",
       "      <td>3100 riyals were transferred to a quorum accou...</td>\n",
       "      <td>Payment Operations</td>\n",
       "      <td>Payment Operations</td>\n",
       "    </tr>\n",
       "    <tr>\n",
       "      <th>1</th>\n",
       "      <td>A bank transfer was transferred to a friend on...</td>\n",
       "      <td>Payment Operations</td>\n",
       "      <td>Payment Operations</td>\n",
       "    </tr>\n",
       "    <tr>\n",
       "      <th>2</th>\n",
       "      <td>A broken incoming transfer. The amount of 568 ...</td>\n",
       "      <td>Payment Operations</td>\n",
       "      <td>Payment Operations</td>\n",
       "    </tr>\n",
       "    <tr>\n",
       "      <th>3</th>\n",
       "      <td>A company's amount was withdrawn twice on a da...</td>\n",
       "      <td>Bank Cards</td>\n",
       "      <td>Payment Operations</td>\n",
       "    </tr>\n",
       "    <tr>\n",
       "      <th>4</th>\n",
       "      <td>A complaint has already been revealed and I ha...</td>\n",
       "      <td>Financing &amp; Leasing</td>\n",
       "      <td>Payment Operations</td>\n",
       "    </tr>\n",
       "  </tbody>\n",
       "</table>\n",
       "</div>"
      ],
      "text/plain": [
       "                                 Description_English                 Type  \\\n",
       "0  3100 riyals were transferred to a quorum accou...   Payment Operations   \n",
       "1  A bank transfer was transferred to a friend on...   Payment Operations   \n",
       "2  A broken incoming transfer. The amount of 568 ...   Payment Operations   \n",
       "3  A company's amount was withdrawn twice on a da...           Bank Cards   \n",
       "4  A complaint has already been revealed and I ha...  Financing & Leasing   \n",
       "\n",
       "       Predicted_Type  \n",
       "0  Payment Operations  \n",
       "1  Payment Operations  \n",
       "2  Payment Operations  \n",
       "3  Payment Operations  \n",
       "4  Payment Operations  "
      ]
     },
     "execution_count": 12,
     "metadata": {},
     "output_type": "execute_result"
    }
   ],
   "source": [
    "df.head()"
   ]
  },
  {
   "cell_type": "code",
   "execution_count": 15,
   "metadata": {},
   "outputs": [
    {
     "name": "stdout",
     "output_type": "stream",
     "text": [
      "Zero-Shot llama3 Classification Accuracy: 50.0%\n"
     ]
    }
   ],
   "source": [
    "accuracy = (df['Type'][0:30] == df['Predicted_Type'][0:30]).mean()\n",
    "print(f\"Zero-Shot llama3 Classification Accuracy: {accuracy * 100:.1f}%\")"
   ]
  },
  {
   "cell_type": "code",
   "execution_count": null,
   "metadata": {},
   "outputs": [],
   "source": []
  }
 ],
 "metadata": {
  "kernelspec": {
   "display_name": ".venv",
   "language": "python",
   "name": "python3"
  },
  "language_info": {
   "codemirror_mode": {
    "name": "ipython",
    "version": 3
   },
   "file_extension": ".py",
   "mimetype": "text/x-python",
   "name": "python",
   "nbconvert_exporter": "python",
   "pygments_lexer": "ipython3",
   "version": "3.12.4"
  }
 },
 "nbformat": 4,
 "nbformat_minor": 2
}
