{
 "cells": [
  {
   "cell_type": "code",
   "execution_count": 1,
   "metadata": {},
   "outputs": [],
   "source": [
    "import pandas as pd\n",
    "import ollama\n",
    "import random"
   ]
  },
  {
   "cell_type": "code",
   "execution_count": 2,
   "metadata": {},
   "outputs": [],
   "source": [
    "df = pd.read_csv('arabot_1k_translated_random.csv')"
   ]
  },
  {
   "cell_type": "code",
   "execution_count": 3,
   "metadata": {},
   "outputs": [],
   "source": [
    "categories = df['Type'].unique().tolist()\n"
   ]
  },
  {
   "cell_type": "code",
   "execution_count": 4,
   "metadata": {},
   "outputs": [],
   "source": [
    "# create a dictionary to store examples for each category\n",
    "examples = {}\n",
    "for category in categories:\n",
    "    category_data = df[df['Type'] == category]\n",
    "    examples[category] = category_data.sample(n=2)['Description_English'].tolist()"
   ]
  },
  {
   "cell_type": "code",
   "execution_count": null,
   "metadata": {},
   "outputs": [],
   "source": [
    "examples"
   ]
  },
  {
   "cell_type": "code",
   "execution_count": 6,
   "metadata": {},
   "outputs": [],
   "source": [
    "# separate the examples and the remaining data\n",
    "example_indices = []\n",
    "for category_examples in examples.values():\n",
    "    for example in category_examples:\n",
    "        indices = df[df['Description_English'] == example].index\n",
    "        example_indices.extend(indices)\n",
    "\n",
    "df_examples = df.loc[example_indices]\n",
    "df_to_predict = df.drop(example_indices)"
   ]
  },
  {
   "cell_type": "code",
   "execution_count": 7,
   "metadata": {},
   "outputs": [],
   "source": [
    "# create few shot prompt\n",
    "def create_few_shot_prompt(text, examples):\n",
    "    prompt = \"Here are some examples of text and their categories:\\n\\n\"\n",
    "    for category, category_examples in examples.items():\n",
    "        for example in category_examples:\n",
    "            prompt += f\"Text: {example}\\nCategory: {category}\\n\\n\"\n",
    "    prompt = prompt + f\"Now, classify the following text into one of the categories. Output only the category name, nothing else:\\n\\nText: {text}\\nCategory:\"\n",
    "    return prompt"
   ]
  },
  {
   "cell_type": "code",
   "execution_count": 8,
   "metadata": {},
   "outputs": [],
   "source": [
    "# function to perform few-shot classification\n",
    "def few_shot_classification(text, examples):\n",
    "    prompt = create_few_shot_prompt(text, examples)\n",
    "    response = ollama.chat(model='llama3:70b', messages=[{'role': 'user', 'content': prompt}])\n",
    "    return response['message']['content'].strip()"
   ]
  },
  {
   "cell_type": "code",
   "execution_count": 9,
   "metadata": {},
   "outputs": [
    {
     "data": {
      "text/plain": [
       "'Payment Operations'"
      ]
     },
     "execution_count": 9,
     "metadata": {},
     "output_type": "execute_result"
    }
   ],
   "source": [
    "few_shot_classification(df_to_predict['Description_English'][0], examples)"
   ]
  },
  {
   "cell_type": "markdown",
   "metadata": {},
   "source": [
    "I will be running this function on 30 observations so that i'm consistent with the llama3-70b zero-shot analysis. Based on the 6.5 min runtime in the previous cell, this should take around 3-4 hours."
   ]
  },
  {
   "cell_type": "code",
   "execution_count": 10,
   "metadata": {},
   "outputs": [],
   "source": [
    "# perform classification on the remaining data\n",
    "df_to_predict['Predicted_Type'] = df_to_predict['Description_English'][0:30].apply(lambda x: few_shot_classification(x, examples))"
   ]
  },
  {
   "cell_type": "code",
   "execution_count": 11,
   "metadata": {},
   "outputs": [
    {
     "data": {
      "text/html": [
       "<div>\n",
       "<style scoped>\n",
       "    .dataframe tbody tr th:only-of-type {\n",
       "        vertical-align: middle;\n",
       "    }\n",
       "\n",
       "    .dataframe tbody tr th {\n",
       "        vertical-align: top;\n",
       "    }\n",
       "\n",
       "    .dataframe thead th {\n",
       "        text-align: right;\n",
       "    }\n",
       "</style>\n",
       "<table border=\"1\" class=\"dataframe\">\n",
       "  <thead>\n",
       "    <tr style=\"text-align: right;\">\n",
       "      <th></th>\n",
       "      <th>Description_English</th>\n",
       "      <th>Type</th>\n",
       "      <th>Predicted_Type</th>\n",
       "    </tr>\n",
       "  </thead>\n",
       "  <tbody>\n",
       "    <tr>\n",
       "      <th>0</th>\n",
       "      <td>3100 riyals were transferred to a quorum accou...</td>\n",
       "      <td>Payment Operations</td>\n",
       "      <td>Payment Operations</td>\n",
       "    </tr>\n",
       "    <tr>\n",
       "      <th>1</th>\n",
       "      <td>A bank transfer was transferred to a friend on...</td>\n",
       "      <td>Payment Operations</td>\n",
       "      <td>Payment Operations</td>\n",
       "    </tr>\n",
       "    <tr>\n",
       "      <th>2</th>\n",
       "      <td>A broken incoming transfer. The amount of 568 ...</td>\n",
       "      <td>Payment Operations</td>\n",
       "      <td>Payment Operations</td>\n",
       "    </tr>\n",
       "    <tr>\n",
       "      <th>3</th>\n",
       "      <td>A company's amount was withdrawn twice on a da...</td>\n",
       "      <td>Bank Cards</td>\n",
       "      <td>Payment Operations</td>\n",
       "    </tr>\n",
       "    <tr>\n",
       "      <th>4</th>\n",
       "      <td>A complaint has already been revealed and I ha...</td>\n",
       "      <td>Financing &amp; Leasing</td>\n",
       "      <td>Financing &amp; Leasing</td>\n",
       "    </tr>\n",
       "  </tbody>\n",
       "</table>\n",
       "</div>"
      ],
      "text/plain": [
       "                                 Description_English                 Type  \\\n",
       "0  3100 riyals were transferred to a quorum accou...   Payment Operations   \n",
       "1  A bank transfer was transferred to a friend on...   Payment Operations   \n",
       "2  A broken incoming transfer. The amount of 568 ...   Payment Operations   \n",
       "3  A company's amount was withdrawn twice on a da...           Bank Cards   \n",
       "4  A complaint has already been revealed and I ha...  Financing & Leasing   \n",
       "\n",
       "        Predicted_Type  \n",
       "0   Payment Operations  \n",
       "1   Payment Operations  \n",
       "2   Payment Operations  \n",
       "3   Payment Operations  \n",
       "4  Financing & Leasing  "
      ]
     },
     "execution_count": 11,
     "metadata": {},
     "output_type": "execute_result"
    }
   ],
   "source": [
    "df_to_predict.head()"
   ]
  },
  {
   "cell_type": "code",
   "execution_count": 12,
   "metadata": {},
   "outputs": [
    {
     "name": "stdout",
     "output_type": "stream",
     "text": [
      "Few-Shot Classification Accuracy: 60.00%\n"
     ]
    }
   ],
   "source": [
    "accuracy = (df_to_predict['Type'][0:30] == df_to_predict['Predicted_Type'][0:30]).mean()\n",
    "print(f\"Few-Shot Classification Accuracy: {accuracy * 100:.2f}%\")"
   ]
  },
  {
   "cell_type": "code",
   "execution_count": null,
   "metadata": {},
   "outputs": [],
   "source": []
  }
 ],
 "metadata": {
  "kernelspec": {
   "display_name": ".venv",
   "language": "python",
   "name": "python3"
  },
  "language_info": {
   "codemirror_mode": {
    "name": "ipython",
    "version": 3
   },
   "file_extension": ".py",
   "mimetype": "text/x-python",
   "name": "python",
   "nbconvert_exporter": "python",
   "pygments_lexer": "ipython3",
   "version": "3.12.4"
  }
 },
 "nbformat": 4,
 "nbformat_minor": 2
}
